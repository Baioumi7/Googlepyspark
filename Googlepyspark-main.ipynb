{
  "nbformat": 4,
  "nbformat_minor": 0,
  "metadata": {
    "colab": {
      "provenance": []
    },
    "kernelspec": {
      "name": "python3",
      "display_name": "Python 3"
    },
    "language_info": {
      "name": "python"
    }
  },
  "cells": [
    {
      "cell_type": "markdown",
      "source": [
        "![114-1143971_google-play-logo-google-play-logo-transparent-background.png](data:image/png;base64,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)"
      ],
      "metadata": {
        "id": "jsSUpWAlURoK"
      }
    },
    {
      "cell_type": "markdown",
      "source": [
        "### **This my first Project used pyspark**\n",
        "I have Google playstore dataset from Kaggle containing informations of different Apps , I are going to analysis based on data"
      ],
      "metadata": {
        "id": "0ouhofu9smNK"
      }
    },
    {
      "cell_type": "markdown",
      "source": [
        "*  Find Top Reviews give to the Apps\n",
        "*  Find Top 10 Installs give to the Apps\n",
        "*  Find  Category Wise Disstribution\n",
        "*   Top paid AppsList item\n",
        "*   Most Reviewed Apps\n",
        "*   Price Distribution of Paid Apps"
      ],
      "metadata": {
        "id": "Rjee7ALzvtQo"
      }
    },
    {
      "cell_type": "code",
      "execution_count": 1,
      "metadata": {
        "colab": {
          "base_uri": "https://localhost:8080/"
        },
        "id": "m2_oDfbxFmlp",
        "outputId": "dc2052b0-c02d-4589-8022-09e90f744892"
      },
      "outputs": [
        {
          "output_type": "stream",
          "name": "stdout",
          "text": [
            "Collecting pyspark\n",
            "  Downloading pyspark-3.5.1.tar.gz (317.0 MB)\n",
            "\u001b[2K     \u001b[90m━━━━━━━━━━━━━━━━━━━━━━━━━━━━━━━━━━━━━━━━\u001b[0m \u001b[32m317.0/317.0 MB\u001b[0m \u001b[31m2.6 MB/s\u001b[0m eta \u001b[36m0:00:00\u001b[0m\n",
            "\u001b[?25h  Preparing metadata (setup.py) ... \u001b[?25l\u001b[?25hdone\n",
            "Requirement already satisfied: py4j==0.10.9.7 in /usr/local/lib/python3.10/dist-packages (from pyspark) (0.10.9.7)\n",
            "Building wheels for collected packages: pyspark\n",
            "  Building wheel for pyspark (setup.py) ... \u001b[?25l\u001b[?25hdone\n",
            "  Created wheel for pyspark: filename=pyspark-3.5.1-py2.py3-none-any.whl size=317488491 sha256=636cabb59f0600f9bbc73af49797eeafe4b5023a434373ffee2656e5955610ec\n",
            "  Stored in directory: /root/.cache/pip/wheels/80/1d/60/2c256ed38dddce2fdd93be545214a63e02fbd8d74fb0b7f3a6\n",
            "Successfully built pyspark\n",
            "Installing collected packages: pyspark\n",
            "Successfully installed pyspark-3.5.1\n"
          ]
        }
      ],
      "source": [
        "!pip install pyspark"
      ]
    },
    {
      "cell_type": "code",
      "source": [
        "import pyspark\n",
        "from pyspark.sql import SparkSession\n",
        "from pyspark.sql.functions import *\n",
        "from pyspark.sql.types import *"
      ],
      "metadata": {
        "id": "OEPp-BIBJNYa"
      },
      "execution_count": 2,
      "outputs": []
    },
    {
      "cell_type": "code",
      "source": [
        "spark =SparkSession.builder.getOrCreate()"
      ],
      "metadata": {
        "id": "ctZ0dD7RLwsL"
      },
      "execution_count": 3,
      "outputs": []
    },
    {
      "cell_type": "code",
      "source": [
        "#  Create Data Frame\n",
        "df =spark.read.csv('/content/googleplaystore.csv',header=True,inferSchema=True)"
      ],
      "metadata": {
        "id": "aUMoMvi_KxLP"
      },
      "execution_count": 5,
      "outputs": []
    },
    {
      "cell_type": "code",
      "source": [
        "#  show Data Frame\n",
        "df.show()\n"
      ],
      "metadata": {
        "colab": {
          "base_uri": "https://localhost:8080/"
        },
        "id": "8xMtE1gPMGSb",
        "outputId": "845194b3-1e47-4d61-beda-8f3ed823072e"
      },
      "execution_count": 6,
      "outputs": [
        {
          "output_type": "stream",
          "name": "stdout",
          "text": [
            "+--------------------+--------------+------+-------+----+-----------+----+-----+--------------+--------------------+------------------+------------------+------------+\n",
            "|                 App|      Category|Rating|Reviews|Size|   Installs|Type|Price|Content Rating|              Genres|      Last Updated|       Current Ver| Android Ver|\n",
            "+--------------------+--------------+------+-------+----+-----------+----+-----+--------------+--------------------+------------------+------------------+------------+\n",
            "|Photo Editor & Ca...|ART_AND_DESIGN|   4.1|    159| 19M|    10,000+|Free|    0|      Everyone|        Art & Design|   January 7, 2018|             1.0.0|4.0.3 and up|\n",
            "| Coloring book moana|ART_AND_DESIGN|   3.9|    967| 14M|   500,000+|Free|    0|      Everyone|Art & Design;Pret...|  January 15, 2018|             2.0.0|4.0.3 and up|\n",
            "|U Launcher Lite –...|ART_AND_DESIGN|   4.7|  87510|8.7M| 5,000,000+|Free|    0|      Everyone|        Art & Design|    August 1, 2018|             1.2.4|4.0.3 and up|\n",
            "|Sketch - Draw & P...|ART_AND_DESIGN|   4.5| 215644| 25M|50,000,000+|Free|    0|          Teen|        Art & Design|      June 8, 2018|Varies with device|  4.2 and up|\n",
            "|Pixel Draw - Numb...|ART_AND_DESIGN|   4.3|    967|2.8M|   100,000+|Free|    0|      Everyone|Art & Design;Crea...|     June 20, 2018|               1.1|  4.4 and up|\n",
            "|Paper flowers ins...|ART_AND_DESIGN|   4.4|    167|5.6M|    50,000+|Free|    0|      Everyone|        Art & Design|    March 26, 2017|               1.0|  2.3 and up|\n",
            "|Smoke Effect Phot...|ART_AND_DESIGN|   3.8|    178| 19M|    50,000+|Free|    0|      Everyone|        Art & Design|    April 26, 2018|               1.1|4.0.3 and up|\n",
            "|    Infinite Painter|ART_AND_DESIGN|   4.1|  36815| 29M| 1,000,000+|Free|    0|      Everyone|        Art & Design|     June 14, 2018|          6.1.61.1|  4.2 and up|\n",
            "|Garden Coloring Book|ART_AND_DESIGN|   4.4|  13791| 33M| 1,000,000+|Free|    0|      Everyone|        Art & Design|September 20, 2017|             2.9.2|  3.0 and up|\n",
            "|Kids Paint Free -...|ART_AND_DESIGN|   4.7|    121|3.1M|    10,000+|Free|    0|      Everyone|Art & Design;Crea...|      July 3, 2018|               2.8|4.0.3 and up|\n",
            "|Text on Photo - F...|ART_AND_DESIGN|   4.4|  13880| 28M| 1,000,000+|Free|    0|      Everyone|        Art & Design|  October 27, 2017|             1.0.4|  4.1 and up|\n",
            "|Name Art Photo Ed...|ART_AND_DESIGN|   4.4|   8788| 12M| 1,000,000+|Free|    0|      Everyone|        Art & Design|     July 31, 2018|            1.0.15|  4.0 and up|\n",
            "|Tattoo Name On My...|ART_AND_DESIGN|   4.2|  44829| 20M|10,000,000+|Free|    0|          Teen|        Art & Design|     April 2, 2018|               3.8|  4.1 and up|\n",
            "|Mandala Coloring ...|ART_AND_DESIGN|   4.6|   4326| 21M|   100,000+|Free|    0|      Everyone|        Art & Design|     June 26, 2018|             1.0.4|  4.4 and up|\n",
            "|3D Color Pixel by...|ART_AND_DESIGN|   4.4|   1518| 37M|   100,000+|Free|    0|      Everyone|        Art & Design|    August 3, 2018|             1.2.3|  2.3 and up|\n",
            "|Learn To Draw Kaw...|ART_AND_DESIGN|   3.2|     55|2.7M|     5,000+|Free|    0|      Everyone|        Art & Design|      June 6, 2018|               NaN|  4.2 and up|\n",
            "|Photo Designer - ...|ART_AND_DESIGN|   4.7|   3632|5.5M|   500,000+|Free|    0|      Everyone|        Art & Design|     July 31, 2018|               3.1|  4.1 and up|\n",
            "|350 Diy Room Deco...|ART_AND_DESIGN|   4.5|     27| 17M|    10,000+|Free|    0|      Everyone|        Art & Design|  November 7, 2017|               1.0|  2.3 and up|\n",
            "|FlipaClip - Carto...|ART_AND_DESIGN|   4.3| 194216| 39M| 5,000,000+|Free|    0|      Everyone|        Art & Design|    August 3, 2018|             2.2.5|4.0.3 and up|\n",
            "|        ibis Paint X|ART_AND_DESIGN|   4.6| 224399| 31M|10,000,000+|Free|    0|      Everyone|        Art & Design|     July 30, 2018|             5.5.4|  4.1 and up|\n",
            "+--------------------+--------------+------+-------+----+-----------+----+-----+--------------+--------------------+------------------+------------------+------------+\n",
            "only showing top 20 rows\n",
            "\n"
          ]
        }
      ]
    },
    {
      "cell_type": "code",
      "source": [
        "#  Check Dataframe\n",
        "df.printSchema()"
      ],
      "metadata": {
        "colab": {
          "base_uri": "https://localhost:8080/"
        },
        "id": "IWUgVuV6NMvg",
        "outputId": "469f00b8-b211-40c4-92fa-d675354244ab"
      },
      "execution_count": 7,
      "outputs": [
        {
          "output_type": "stream",
          "name": "stdout",
          "text": [
            "root\n",
            " |-- App: string (nullable = true)\n",
            " |-- Category: string (nullable = true)\n",
            " |-- Rating: string (nullable = true)\n",
            " |-- Reviews: string (nullable = true)\n",
            " |-- Size: string (nullable = true)\n",
            " |-- Installs: string (nullable = true)\n",
            " |-- Type: string (nullable = true)\n",
            " |-- Price: string (nullable = true)\n",
            " |-- Content Rating: string (nullable = true)\n",
            " |-- Genres: string (nullable = true)\n",
            " |-- Last Updated: string (nullable = true)\n",
            " |-- Current Ver: string (nullable = true)\n",
            " |-- Android Ver: string (nullable = true)\n",
            "\n"
          ]
        }
      ]
    },
    {
      "cell_type": "markdown",
      "source": [
        "### **Clean** **Data**"
      ],
      "metadata": {
        "id": "Z-4_YwLgOGy3"
      }
    },
    {
      "cell_type": "code",
      "source": [
        "# @title Drop coulmns not Use\n",
        "df=df.drop('Size','Content Rating','Last Updated','Android Ver','Current Ver')"
      ],
      "metadata": {
        "id": "VAESxaStNXKC"
      },
      "execution_count": 8,
      "outputs": []
    },
    {
      "cell_type": "code",
      "source": [
        "df.select([count(when(isnan(c) | col(c).isNull(), c)).alias(c) for c in df.columns]).show()"
      ],
      "metadata": {
        "colab": {
          "base_uri": "https://localhost:8080/"
        },
        "id": "Hn0SS1djVcZ8",
        "outputId": "ff9a8c8e-c002-407b-a4ca-7ffa4e50f7e6"
      },
      "execution_count": 9,
      "outputs": [
        {
          "output_type": "stream",
          "name": "stdout",
          "text": [
            "+---+--------+------+-------+--------+----+-----+------+\n",
            "|App|Category|Rating|Reviews|Installs|Type|Price|Genres|\n",
            "+---+--------+------+-------+--------+----+-----+------+\n",
            "|  0|       0|  1474|      0|       0|   1|    0|     0|\n",
            "+---+--------+------+-------+--------+----+-----+------+\n",
            "\n"
          ]
        }
      ]
    },
    {
      "cell_type": "code",
      "source": [
        "df.show(3)"
      ],
      "metadata": {
        "colab": {
          "base_uri": "https://localhost:8080/"
        },
        "id": "gD-NUdfWO20r",
        "outputId": "e649de3d-3f02-453b-b9a9-54c9ed425a54"
      },
      "execution_count": 10,
      "outputs": [
        {
          "output_type": "stream",
          "name": "stdout",
          "text": [
            "+--------------------+--------------+------+-------+----------+----+-----+--------------------+\n",
            "|                 App|      Category|Rating|Reviews|  Installs|Type|Price|              Genres|\n",
            "+--------------------+--------------+------+-------+----------+----+-----+--------------------+\n",
            "|Photo Editor & Ca...|ART_AND_DESIGN|   4.1|    159|   10,000+|Free|    0|        Art & Design|\n",
            "| Coloring book moana|ART_AND_DESIGN|   3.9|    967|  500,000+|Free|    0|Art & Design;Pret...|\n",
            "|U Launcher Lite –...|ART_AND_DESIGN|   4.7|  87510|5,000,000+|Free|    0|        Art & Design|\n",
            "+--------------------+--------------+------+-------+----------+----+-----+--------------------+\n",
            "only showing top 3 rows\n",
            "\n"
          ]
        }
      ]
    },
    {
      "cell_type": "markdown",
      "source": [
        "**Correct DataType**"
      ],
      "metadata": {
        "id": "ZNF1IKnDP7-T"
      }
    },
    {
      "cell_type": "code",
      "source": [
        "df = df.withColumn('Reviews', col('Reviews').cast(IntegerType()))"
      ],
      "metadata": {
        "id": "qi3g1omThvnZ"
      },
      "execution_count": 11,
      "outputs": []
    },
    {
      "cell_type": "code",
      "source": [
        "# Remove non-numeric characters and convert 'Installs' to IntegerType\n",
        "df = df.withColumn('Installs', regexp_replace(col('Installs'), '[^0-9]', ''))\n",
        "df = df.withColumn('Installs', col('Installs').cast(IntegerType()))"
      ],
      "metadata": {
        "id": "ZwTgHcm6lP_X"
      },
      "execution_count": 12,
      "outputs": []
    },
    {
      "cell_type": "code",
      "source": [
        "df.select('Installs').show(5)"
      ],
      "metadata": {
        "colab": {
          "base_uri": "https://localhost:8080/"
        },
        "id": "aqOHD257hyZk",
        "outputId": "f5880a5d-dea2-4bf9-d507-56952766cee5"
      },
      "execution_count": 13,
      "outputs": [
        {
          "output_type": "stream",
          "name": "stdout",
          "text": [
            "+--------+\n",
            "|Installs|\n",
            "+--------+\n",
            "|   10000|\n",
            "|  500000|\n",
            "| 5000000|\n",
            "|50000000|\n",
            "|  100000|\n",
            "+--------+\n",
            "only showing top 5 rows\n",
            "\n"
          ]
        }
      ]
    },
    {
      "cell_type": "code",
      "source": [
        "# Remove '$' and convert 'Price' to IntegerType\n",
        "df = df.withColumn(\"Price\", regexp_replace(col(\"Price\"), '[$]',\"\"))\n",
        "df = df.withColumn('Price', col('Price').cast(IntegerType()))"
      ],
      "metadata": {
        "id": "72JUm-92lNi0"
      },
      "execution_count": 14,
      "outputs": []
    },
    {
      "cell_type": "code",
      "source": [
        "df.select('price').show(5)"
      ],
      "metadata": {
        "colab": {
          "base_uri": "https://localhost:8080/"
        },
        "id": "zzgNNSPHjPfK",
        "outputId": "87162f41-833e-4705-fd0a-d10f194c1507"
      },
      "execution_count": 15,
      "outputs": [
        {
          "output_type": "stream",
          "name": "stdout",
          "text": [
            "+-----+\n",
            "|price|\n",
            "+-----+\n",
            "|    0|\n",
            "|    0|\n",
            "|    0|\n",
            "|    0|\n",
            "|    0|\n",
            "+-----+\n",
            "only showing top 5 rows\n",
            "\n"
          ]
        }
      ]
    },
    {
      "cell_type": "markdown",
      "source": [
        "## **Create View**"
      ],
      "metadata": {
        "id": "4Q8R1kAjU1-2"
      }
    },
    {
      "cell_type": "code",
      "source": [
        "df.createOrReplaceTempView('Apps')"
      ],
      "metadata": {
        "id": "9j7-ddBmVEQV"
      },
      "execution_count": 16,
      "outputs": []
    },
    {
      "cell_type": "code",
      "source": [
        "# @title select view\n",
        "spark.sql('select * from Apps').show()"
      ],
      "metadata": {
        "colab": {
          "base_uri": "https://localhost:8080/"
        },
        "id": "8iaup2vpVdox",
        "outputId": "835ced31-5702-4936-c36e-1599f6a61ab0"
      },
      "execution_count": 17,
      "outputs": [
        {
          "output_type": "stream",
          "name": "stdout",
          "text": [
            "+--------------------+--------------+------+-------+--------+----+-----+--------------------+\n",
            "|                 App|      Category|Rating|Reviews|Installs|Type|Price|              Genres|\n",
            "+--------------------+--------------+------+-------+--------+----+-----+--------------------+\n",
            "|Photo Editor & Ca...|ART_AND_DESIGN|   4.1|    159|   10000|Free|    0|        Art & Design|\n",
            "| Coloring book moana|ART_AND_DESIGN|   3.9|    967|  500000|Free|    0|Art & Design;Pret...|\n",
            "|U Launcher Lite –...|ART_AND_DESIGN|   4.7|  87510| 5000000|Free|    0|        Art & Design|\n",
            "|Sketch - Draw & P...|ART_AND_DESIGN|   4.5| 215644|50000000|Free|    0|        Art & Design|\n",
            "|Pixel Draw - Numb...|ART_AND_DESIGN|   4.3|    967|  100000|Free|    0|Art & Design;Crea...|\n",
            "|Paper flowers ins...|ART_AND_DESIGN|   4.4|    167|   50000|Free|    0|        Art & Design|\n",
            "|Smoke Effect Phot...|ART_AND_DESIGN|   3.8|    178|   50000|Free|    0|        Art & Design|\n",
            "|    Infinite Painter|ART_AND_DESIGN|   4.1|  36815| 1000000|Free|    0|        Art & Design|\n",
            "|Garden Coloring Book|ART_AND_DESIGN|   4.4|  13791| 1000000|Free|    0|        Art & Design|\n",
            "|Kids Paint Free -...|ART_AND_DESIGN|   4.7|    121|   10000|Free|    0|Art & Design;Crea...|\n",
            "|Text on Photo - F...|ART_AND_DESIGN|   4.4|  13880| 1000000|Free|    0|        Art & Design|\n",
            "|Name Art Photo Ed...|ART_AND_DESIGN|   4.4|   8788| 1000000|Free|    0|        Art & Design|\n",
            "|Tattoo Name On My...|ART_AND_DESIGN|   4.2|  44829|10000000|Free|    0|        Art & Design|\n",
            "|Mandala Coloring ...|ART_AND_DESIGN|   4.6|   4326|  100000|Free|    0|        Art & Design|\n",
            "|3D Color Pixel by...|ART_AND_DESIGN|   4.4|   1518|  100000|Free|    0|        Art & Design|\n",
            "|Learn To Draw Kaw...|ART_AND_DESIGN|   3.2|     55|    5000|Free|    0|        Art & Design|\n",
            "|Photo Designer - ...|ART_AND_DESIGN|   4.7|   3632|  500000|Free|    0|        Art & Design|\n",
            "|350 Diy Room Deco...|ART_AND_DESIGN|   4.5|     27|   10000|Free|    0|        Art & Design|\n",
            "|FlipaClip - Carto...|ART_AND_DESIGN|   4.3| 194216| 5000000|Free|    0|        Art & Design|\n",
            "|        ibis Paint X|ART_AND_DESIGN|   4.6| 224399|10000000|Free|    0|        Art & Design|\n",
            "+--------------------+--------------+------+-------+--------+----+-----+--------------------+\n",
            "only showing top 20 rows\n",
            "\n"
          ]
        }
      ]
    },
    {
      "cell_type": "markdown",
      "source": [
        "### **Top  Reviews give to the Apps **"
      ],
      "metadata": {
        "id": "dpRNHCDQWnon"
      }
    },
    {
      "cell_type": "code",
      "source": [
        "spark.sql('''select APP,Sum(Reviews) from Apps\n",
        "            group by (APP)\n",
        "            order by Sum(Reviews) Desc''').show(10)"
      ],
      "metadata": {
        "colab": {
          "base_uri": "https://localhost:8080/"
        },
        "id": "7GSpLlJyW4Sy",
        "outputId": "b9b1d48a-1f77-47f3-9d46-d5e478ef716f"
      },
      "execution_count": 18,
      "outputs": [
        {
          "output_type": "stream",
          "name": "stdout",
          "text": [
            "+--------------------+------------+\n",
            "|                 APP|sum(Reviews)|\n",
            "+--------------------+------------+\n",
            "|           Instagram|   266241989|\n",
            "|  WhatsApp Messenger|   207348304|\n",
            "|      Clash of Clans|   179558781|\n",
            "|Messenger – Text ...|   169932272|\n",
            "|      Subway Surfers|   166331958|\n",
            "|    Candy Crush Saga|   156993136|\n",
            "|            Facebook|   156286514|\n",
            "|         8 Ball Pool|    99386198|\n",
            "|        Clash Royale|    92530298|\n",
            "|            Snapchat|    68045010|\n",
            "+--------------------+------------+\n",
            "only showing top 10 rows\n",
            "\n"
          ]
        }
      ]
    },
    {
      "cell_type": "markdown",
      "source": [
        "### **Top 10 Installs give to the Apps **"
      ],
      "metadata": {
        "id": "SB2CVqoFbKt0"
      }
    },
    {
      "cell_type": "code",
      "source": [
        "spark.sql('''SELECT App, Type, SUM(Installs) AS total_Installs\n",
        "           FROM Apps\n",
        "           GROUP BY App, Type\n",
        "           ORDER BY total_Installs DESC;\n",
        "          ''').show(10)"
      ],
      "metadata": {
        "colab": {
          "base_uri": "https://localhost:8080/"
        },
        "id": "9-GBQDe7azJB",
        "outputId": "bfb15fe0-c888-4ead-8545-ac1d73336560"
      },
      "execution_count": 19,
      "outputs": [
        {
          "output_type": "stream",
          "name": "stdout",
          "text": [
            "+------------------+----+--------------+\n",
            "|               App|Type|total_Installs|\n",
            "+------------------+----+--------------+\n",
            "|    Subway Surfers|Free|    6000000000|\n",
            "|         Instagram|Free|    4000000000|\n",
            "|      Google Drive|Free|    4000000000|\n",
            "|          Hangouts|Free|    4000000000|\n",
            "|     Google Photos|Free|    4000000000|\n",
            "|       Google News|Free|    4000000000|\n",
            "|  Candy Crush Saga|Free|    3500000000|\n",
            "|WhatsApp Messenger|Free|    3000000000|\n",
            "|             Gmail|Free|    3000000000|\n",
            "|      Temple Run 2|Free|    3000000000|\n",
            "+------------------+----+--------------+\n",
            "only showing top 10 rows\n",
            "\n"
          ]
        }
      ]
    },
    {
      "cell_type": "markdown",
      "source": [
        "# Category Wise Disstribution"
      ],
      "metadata": {
        "id": "nna7rj0AqIBB"
      }
    },
    {
      "cell_type": "code",
      "source": [
        "spark.sql('''SELECT Category, SUM(Installs) AS total_Installs\n",
        "           FROM Apps\n",
        "           GROUP BY Category\n",
        "           ORDER BY total_Installs DESC;\n",
        "          ''').show(10)"
      ],
      "metadata": {
        "colab": {
          "base_uri": "https://localhost:8080/"
        },
        "id": "mHQb2WkfqHEa",
        "outputId": "590c0016-eaac-4d78-eb40-3032e64827ca"
      },
      "execution_count": 20,
      "outputs": [
        {
          "output_type": "stream",
          "name": "stdout",
          "text": [
            "+------------------+--------------+\n",
            "|          Category|total_Installs|\n",
            "+------------------+--------------+\n",
            "|              GAME|   35086024415|\n",
            "|     COMMUNICATION|   32647276251|\n",
            "|      PRODUCTIVITY|   14176091369|\n",
            "|            SOCIAL|   14069867902|\n",
            "|             TOOLS|   11452771915|\n",
            "|            FAMILY|   10258263505|\n",
            "|       PHOTOGRAPHY|   10088247655|\n",
            "|NEWS_AND_MAGAZINES|    7496317760|\n",
            "|  TRAVEL_AND_LOCAL|    6868887146|\n",
            "|     VIDEO_PLAYERS|    6222002720|\n",
            "+------------------+--------------+\n",
            "only showing top 10 rows\n",
            "\n"
          ]
        }
      ]
    },
    {
      "cell_type": "markdown",
      "source": [
        "# **Top paid Apps**"
      ],
      "metadata": {
        "id": "aXVoCAs4rSW6"
      }
    },
    {
      "cell_type": "code",
      "source": [
        "spark.sql('''SELECT App,SUM(price) AS sum_price\n",
        "           FROM Apps\n",
        "           where Type='Paid'\n",
        "           GROUP BY App\n",
        "           ORDER BY sum_price DESC;\n",
        "          ''').show(10)"
      ],
      "metadata": {
        "colab": {
          "base_uri": "https://localhost:8080/"
        },
        "id": "MvxfGNytrWTg",
        "outputId": "31721fe2-9ba5-4560-b768-1d59171842a5"
      },
      "execution_count": 21,
      "outputs": [
        {
          "output_type": "stream",
          "name": "stdout",
          "text": [
            "+--------------------+---------+\n",
            "|                 App|sum_price|\n",
            "+--------------------+---------+\n",
            "|I'm Rich - Trump ...|      400|\n",
            "|most expensive ap...|      399|\n",
            "|           I am Rich|      399|\n",
            "|  I AM RICH PRO PLUS|      399|\n",
            "|  I am rich(premium)|      399|\n",
            "|      I am Rich Plus|      399|\n",
            "|I'm Rich/Eu sou R...|      399|\n",
            "|   I Am Rich Premium|      399|\n",
            "|       I Am Rich Pro|      399|\n",
            "|          I am Rich!|      399|\n",
            "+--------------------+---------+\n",
            "only showing top 10 rows\n",
            "\n"
          ]
        }
      ]
    },
    {
      "cell_type": "markdown",
      "source": [
        "# Most Reviewed Apps"
      ],
      "metadata": {
        "id": "5ZJuiE4NV0SZ"
      }
    },
    {
      "cell_type": "code",
      "source": [
        "# Query to find the most reviewed apps\n",
        "most_reviewed_apps = spark.sql(\"\"\"\n",
        "    SELECT App, Reviews\n",
        "    FROM Apps\n",
        "    ORDER BY CAST(Reviews AS INT) DESC\n",
        "    LIMIT 10\n",
        "\"\"\")"
      ],
      "metadata": {
        "id": "e4ZKS5qwWAQm"
      },
      "execution_count": 22,
      "outputs": []
    },
    {
      "cell_type": "code",
      "source": [
        "most_reviewed_apps.distinct().show(5)"
      ],
      "metadata": {
        "colab": {
          "base_uri": "https://localhost:8080/"
        },
        "id": "gyFhIM_RWE9w",
        "outputId": "dbd1189d-fe4a-467d-bdea-8f83d08d53f6"
      },
      "execution_count": 23,
      "outputs": [
        {
          "output_type": "stream",
          "name": "stdout",
          "text": [
            "+------------------+--------+\n",
            "|               App| Reviews|\n",
            "+------------------+--------+\n",
            "|          Facebook|78158306|\n",
            "|          Facebook|78128208|\n",
            "|WhatsApp Messenger|69119316|\n",
            "|WhatsApp Messenger|69109672|\n",
            "|         Instagram|66577446|\n",
            "+------------------+--------+\n",
            "only showing top 5 rows\n",
            "\n"
          ]
        }
      ]
    },
    {
      "cell_type": "markdown",
      "source": [
        "# Price Distribution of Paid Apps"
      ],
      "metadata": {
        "id": "YwGI0vSwWJ1B"
      }
    },
    {
      "cell_type": "code",
      "source": [
        "paid_apps_df = df.filter(df.Price > 0)\n",
        "\n",
        "# Register the DataFrame as a SQL temporary view\n",
        "paid_apps_df.createOrReplaceTempView(\"paid_apps\")\n",
        "\n",
        "# Query to analyze price distribution\n",
        "price_distribution = spark.sql(\"\"\"\n",
        "    SELECT\n",
        "        CASE\n",
        "            WHEN Price <= 1 THEN '0-1'\n",
        "            WHEN Price <= 5 THEN '1-5'\n",
        "            WHEN Price <= 10 THEN '5-10'\n",
        "            ELSE '>10'\n",
        "        END AS Price_Range,\n",
        "        COUNT(*) AS Count\n",
        "    FROM paid_apps\n",
        "    GROUP BY\n",
        "        CASE\n",
        "            WHEN Price <= 1 THEN '0-1'\n",
        "            WHEN Price <= 5 THEN '1-5'\n",
        "            WHEN Price <= 10 THEN '5-10'\n",
        "            ELSE '>10'\n",
        "        END\n",
        "    ORDER BY Price_Range\n",
        "\"\"\")\n",
        "\n",
        "# Show the result\n",
        "price_distribution.show()"
      ],
      "metadata": {
        "colab": {
          "base_uri": "https://localhost:8080/"
        },
        "id": "pOiKKLfzWNvP",
        "outputId": "c705803f-91b7-4a48-9a45-a30d30b59712"
      },
      "execution_count": 24,
      "outputs": [
        {
          "output_type": "stream",
          "name": "stdout",
          "text": [
            "+-----------+-----+\n",
            "|Price_Range|Count|\n",
            "+-----------+-----+\n",
            "|        0-1|  135|\n",
            "|        1-5|  368|\n",
            "|       5-10|   62|\n",
            "|        >10|   87|\n",
            "+-----------+-----+\n",
            "\n"
          ]
        }
      ]
    }
  ]
}